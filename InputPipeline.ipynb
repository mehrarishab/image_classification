{
  "nbformat": 4,
  "nbformat_minor": 0,
  "metadata": {
    "colab": {
      "provenance": [],
      "authorship_tag": "ABX9TyPlIWDIaRNCCn6B64ajicq0",
      "include_colab_link": true
    },
    "kernelspec": {
      "name": "python3",
      "display_name": "Python 3"
    },
    "language_info": {
      "name": "python"
    }
  },
  "cells": [
    {
      "cell_type": "markdown",
      "metadata": {
        "id": "view-in-github",
        "colab_type": "text"
      },
      "source": [
        "<a href=\"https://colab.research.google.com/github/mehrarishab/image_classification/blob/main/InputPipeline.ipynb\" target=\"_parent\"><img src=\"https://colab.research.google.com/assets/colab-badge.svg\" alt=\"Open In Colab\"/></a>"
      ]
    },
    {
      "cell_type": "code",
      "source": [
        "from google.colab import drive\n",
        "\n",
        "drive.mount('/content/drive')"
      ],
      "metadata": {
        "colab": {
          "base_uri": "https://localhost:8080/"
        },
        "id": "NlO_hXFZeXJ2",
        "outputId": "22ad45ac-95d4-439a-f386-48ab6086f3b9"
      },
      "execution_count": 4,
      "outputs": [
        {
          "output_type": "stream",
          "name": "stdout",
          "text": [
            "Mounted at /content/drive\n"
          ]
        }
      ]
    },
    {
      "cell_type": "code",
      "source": [
        "!ls /content/drive/MyDrive/datasets"
      ],
      "metadata": {
        "colab": {
          "base_uri": "https://localhost:8080/"
        },
        "id": "0EmTlkiReh9j",
        "outputId": "62c6a81c-6a78-40e2-ccaf-e13937debaec"
      },
      "execution_count": 5,
      "outputs": [
        {
          "output_type": "stream",
          "name": "stdout",
          "text": [
            " covid_dataset\t COVID_IEEE   jobs.json   potato  'Untitled Jam.gjam'\n"
          ]
        }
      ]
    },
    {
      "cell_type": "code",
      "execution_count": 3,
      "metadata": {
        "id": "Px1XFO3CQ5sR"
      },
      "outputs": [],
      "source": [
        "import tensorflow as tf"
      ]
    },
    {
      "cell_type": "code",
      "source": [
        "ds_path = '/content/drive/MyDrive/datasets/potato'"
      ],
      "metadata": {
        "id": "RHmM-TbReKeP"
      },
      "execution_count": 7,
      "outputs": []
    },
    {
      "cell_type": "code",
      "source": [
        "image_ds = tf.data.Dataset.list_files(ds_path + '/*/*', shuffle=True)\n",
        "\n",
        "# Shuffle the Tensor Dataset with Buffer Size of 200\n",
        "image_ds = image_ds.shuffle(200)\n",
        "\n",
        "# Batch the Tensor Dataset with Batch Size of 32\n",
        "# image_ds = image_ds.batch(32)\n",
        "\n",
        "for img_file_loc in image_ds.take(10):\n",
        "  print(img_file_loc.numpy())"
      ],
      "metadata": {
        "colab": {
          "base_uri": "https://localhost:8080/"
        },
        "id": "5WDVyDq5d-1O",
        "outputId": "e12d2929-fd9e-4b32-dfd9-aa087cc91f1f"
      },
      "execution_count": 19,
      "outputs": [
        {
          "output_type": "stream",
          "name": "stdout",
          "text": [
            "<class 'bytes'>\n",
            "b'/content/drive/MyDrive/datasets/potato/Late_blight/63490f84-88b0-4105-bb76-23990e98c692___RS_LB 3041.JPG'\n",
            "<class 'bytes'>\n",
            "b'/content/drive/MyDrive/datasets/potato/Late_blight/dd08ad51-110b-4de0-bfbb-862e53a6165c___RS_LB 4542.JPG'\n",
            "<class 'bytes'>\n",
            "b'/content/drive/MyDrive/datasets/potato/Early_blight/4af8e9e9-077d-4c7b-859d-626f74d3b1ff___RS_Early.B 7738.JPG'\n",
            "<class 'bytes'>\n",
            "b'/content/drive/MyDrive/datasets/potato/Late_blight/b11189c8-ab6f-4d69-9ffa-e52749d2a3a5___RS_LB 4537.JPG'\n",
            "<class 'bytes'>\n",
            "b'/content/drive/MyDrive/datasets/potato/Late_blight/f2676f08-798e-4291-8aa2-0655ca54cb07___RS_LB 4292.JPG'\n",
            "<class 'bytes'>\n",
            "b'/content/drive/MyDrive/datasets/potato/Late_blight/b0e6c386-35dc-4982-acc6-f393c7f58c67___RS_LB 5036.JPG'\n",
            "<class 'bytes'>\n",
            "b'/content/drive/MyDrive/datasets/potato/Late_blight/cba4be0b-2554-4a9e-8dd0-94cbb2467388___RS_LB 3335.JPG'\n",
            "<class 'bytes'>\n",
            "b'/content/drive/MyDrive/datasets/potato/Early_blight/07953ca1-8935-449f-b338-4357ed683b2d___RS_Early.B 6815.JPG'\n",
            "<class 'bytes'>\n",
            "b'/content/drive/MyDrive/datasets/potato/Late_blight/f9d861a9-0217-4de2-844f-fd23ccaa9def___RS_LB 3067.JPG'\n",
            "<class 'bytes'>\n",
            "b'/content/drive/MyDrive/datasets/potato/Late_blight/2c2b39ed-75f9-49f6-a28e-36a2cb608297___RS_LB 2794.JPG'\n"
          ]
        }
      ]
    },
    {
      "cell_type": "code",
      "source": [
        "# Generate Label from Image Path\n",
        "import os\n",
        "\n",
        "def get_label(file_path):\n",
        "  parts = tf.strings.split(file_path,'/')\n",
        "  return parts[-2]\n",
        "\n",
        "\n",
        "def process_image(file_path):\n",
        "  label = get_label(file_path)\n",
        "  img = tf.io.read_file(file_path)\n",
        "  img = tf.image.decode_jpeg(img, channels=3)\n",
        "  img = tf.image.resize(img,[224,224])\n",
        "  img = tf.cast(img, tf.float32)\n",
        "  img /= 255\n",
        "  return img, label"
      ],
      "metadata": {
        "id": "opCPT3HMixo6"
      },
      "execution_count": 25,
      "outputs": []
    },
    {
      "cell_type": "code",
      "source": [
        "process_image('/content/drive/MyDrive/datasets/potato/Late_blight/2c2b39ed-75f9-49f6-a28e-36a2cb608297___RS_LB 2794.JPG')"
      ],
      "metadata": {
        "id": "H9tLxTAC5xAE"
      },
      "execution_count": null,
      "outputs": []
    },
    {
      "cell_type": "code",
      "source": [
        "# Split Image Dataset into Train and Test\n",
        "image_count = int(len(image_ds) * 0.8)\n",
        "train_ds = image_ds.take(image_count)\n",
        "test_ds = image_ds.skip(image_count)\n",
        "\n",
        "print('Size of Training Dataset: ' ,len(train_ds))\n",
        "print('Size of Test Dataset: ', len(test_ds))"
      ],
      "metadata": {
        "colab": {
          "base_uri": "https://localhost:8080/"
        },
        "id": "5BNktCq657ck",
        "outputId": "c34b58a7-267b-4a56-ee0b-63825e465b0a"
      },
      "execution_count": 31,
      "outputs": [
        {
          "output_type": "stream",
          "name": "stdout",
          "text": [
            "Size of Training Dataset:  1721\n",
            "Size of Test Dataset:  431\n"
          ]
        }
      ]
    },
    {
      "cell_type": "code",
      "source": [
        "# Process the entire Training and Test Data Sets using map function\n",
        "\n",
        "train_ds = train_ds.map(process_image)\n",
        "test_ds = test_ds.map(process_image)"
      ],
      "metadata": {
        "id": "F7PPZqn57lVj"
      },
      "execution_count": 32,
      "outputs": []
    },
    {
      "cell_type": "code",
      "source": [
        "for image, label in train_ds.take(5):\n",
        "    print(\"****Image: \",image.numpy()[0][0])\n",
        "    print(\"****Label: \",label.numpy())"
      ],
      "metadata": {
        "colab": {
          "base_uri": "https://localhost:8080/"
        },
        "id": "vIGLpS8r792G",
        "outputId": "9b8e8eb1-5769-4fc9-8eb3-2a9a1c2f13f0"
      },
      "execution_count": 33,
      "outputs": [
        {
          "output_type": "stream",
          "name": "stdout",
          "text": [
            "****Image:  [0.80864346 0.8008003  0.82040817]\n",
            "****Label:  b'Early_blight'\n",
            "****Image:  [0.75152063 0.7593638  0.81034416]\n",
            "****Label:  b'Early_blight'\n",
            "****Image:  [0.6291116  0.6055822  0.62126845]\n",
            "****Label:  b'Early_blight'\n",
            "****Image:  [0.49581832 0.4605242  0.48013204]\n",
            "****Label:  b'Late_blight'\n",
            "****Image:  [0.63639456 0.6285514  0.6795318 ]\n",
            "****Label:  b'Early_blight'\n"
          ]
        }
      ]
    },
    {
      "cell_type": "code",
      "source": [
        "# Check the Distribution of Classes in Train & Test Dataset\n",
        "\n",
        "class_count = {'Early_blight': 0 , 'Late_blight': 0, 'healthy':0}\n",
        "\n",
        "for image, label in train_ds:\n",
        "  classname = label.numpy().decode('utf-8')\n",
        "  class_count[classname] += 1\n",
        "\n",
        "print(class_count)\n"
      ],
      "metadata": {
        "colab": {
          "base_uri": "https://localhost:8080/"
        },
        "id": "6XKYjbRa8Ejx",
        "outputId": "21ecdec2-351f-4c42-ca59-12da2e2583f8"
      },
      "execution_count": 44,
      "outputs": [
        {
          "output_type": "stream",
          "name": "stdout",
          "text": [
            "{'Early_blight': 785, 'Late_blight': 815, 'healthy': 121}\n"
          ]
        }
      ]
    }
  ]
}